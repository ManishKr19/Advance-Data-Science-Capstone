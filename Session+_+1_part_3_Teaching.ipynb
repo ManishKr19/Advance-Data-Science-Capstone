{
  "cells": [
    {
      "cell_type": "markdown",
      "metadata": {
        "id": "view-in-github",
        "colab_type": "text"
      },
      "source": [
        "<a href=\"https://colab.research.google.com/github/ManishKr19/Advance-Data-Science-Capstone/blob/master/Session%2B_%2B1_part_3_Teaching.ipynb\" target=\"_parent\"><img src=\"https://colab.research.google.com/assets/colab-badge.svg\" alt=\"Open In Colab\"/></a>"
      ]
    },
    {
      "cell_type": "markdown",
      "metadata": {
        "id": "SEMHGb-QjnN6"
      },
      "source": [
        "<h2 style = \"color : Brown\"> Creating NumPy Arrays </h2 >\n",
        "\n"
      ]
    },
    {
      "cell_type": "markdown",
      "metadata": {
        "id": "VYZNRiZOjnOB"
      },
      "source": [
        " The following ways are commonly used when you know the size of the array beforehand:\n",
        "* ```np.ones()```: Create array of 1s\n",
        "* ```np.zeros()```: Create array of 0s\n",
        "* ```np.random.random()```: Create array of random numbers\n",
        "* ```np.arange()```: Create array with increments of a fixed step size\n",
        "* ```np.linspace()```: Create array of fixed length"
      ]
    },
    {
      "cell_type": "code",
      "execution_count": 1,
      "metadata": {
        "id": "n8thtf-ajnOD"
      },
      "outputs": [],
      "source": [
        "import numpy as np"
      ]
    },
    {
      "cell_type": "markdown",
      "metadata": {
        "id": "VAA9ItdFjnOE"
      },
      "source": [
        "##### Tip: Use help to see the syntax when required"
      ]
    },
    {
      "cell_type": "code",
      "execution_count": 2,
      "metadata": {
        "colab": {
          "base_uri": "https://localhost:8080/"
        },
        "id": "63SpKuSFjnOF",
        "outputId": "07ea2fce-a431-46b3-b928-758e410102cd"
      },
      "outputs": [
        {
          "output_type": "stream",
          "name": "stdout",
          "text": [
            "Help on function ones in module numpy:\n",
            "\n",
            "ones(shape, dtype=None, order='C', *, like=None)\n",
            "    Return a new array of given shape and type, filled with ones.\n",
            "    \n",
            "    Parameters\n",
            "    ----------\n",
            "    shape : int or sequence of ints\n",
            "        Shape of the new array, e.g., ``(2, 3)`` or ``2``.\n",
            "    dtype : data-type, optional\n",
            "        The desired data-type for the array, e.g., `numpy.int8`.  Default is\n",
            "        `numpy.float64`.\n",
            "    order : {'C', 'F'}, optional, default: C\n",
            "        Whether to store multi-dimensional data in row-major\n",
            "        (C-style) or column-major (Fortran-style) order in\n",
            "        memory.\n",
            "    like : array_like\n",
            "        Reference object to allow the creation of arrays which are not\n",
            "        NumPy arrays. If an array-like passed in as ``like`` supports\n",
            "        the ``__array_function__`` protocol, the result will be defined\n",
            "        by it. In this case, it ensures the creation of an array object\n",
            "        compatible with that passed in via this argument.\n",
            "    \n",
            "        .. versionadded:: 1.20.0\n",
            "    \n",
            "    Returns\n",
            "    -------\n",
            "    out : ndarray\n",
            "        Array of ones with the given shape, dtype, and order.\n",
            "    \n",
            "    See Also\n",
            "    --------\n",
            "    ones_like : Return an array of ones with shape and type of input.\n",
            "    empty : Return a new uninitialized array.\n",
            "    zeros : Return a new array setting values to zero.\n",
            "    full : Return a new array of given shape filled with value.\n",
            "    \n",
            "    \n",
            "    Examples\n",
            "    --------\n",
            "    >>> np.ones(5)\n",
            "    array([1., 1., 1., 1., 1.])\n",
            "    \n",
            "    >>> np.ones((5,), dtype=int)\n",
            "    array([1, 1, 1, 1, 1])\n",
            "    \n",
            "    >>> np.ones((2, 1))\n",
            "    array([[1.],\n",
            "           [1.]])\n",
            "    \n",
            "    >>> s = (2,2)\n",
            "    >>> np.ones(s)\n",
            "    array([[1.,  1.],\n",
            "           [1.,  1.]])\n",
            "\n"
          ]
        }
      ],
      "source": [
        "help(np.ones)"
      ]
    },
    {
      "cell_type": "markdown",
      "metadata": {
        "id": "utltGYoMjnOH"
      },
      "source": [
        "##### Creating a 1 D array of ones"
      ]
    },
    {
      "cell_type": "code",
      "execution_count": 3,
      "metadata": {
        "colab": {
          "base_uri": "https://localhost:8080/"
        },
        "id": "RbsV2XZDjnOH",
        "outputId": "52069be7-94b2-4020-f36b-8cccd4e27c50"
      },
      "outputs": [
        {
          "output_type": "execute_result",
          "data": {
            "text/plain": [
              "array([1., 1., 1., 1., 1.])"
            ]
          },
          "metadata": {},
          "execution_count": 3
        }
      ],
      "source": [
        "arr = np.ones(5)\n",
        "arr"
      ]
    },
    {
      "cell_type": "markdown",
      "metadata": {
        "id": "4zhhVtztjnOI"
      },
      "source": [
        "##### Notice that, by default, numpy creates data type = float64\n",
        "\n"
      ]
    },
    {
      "cell_type": "code",
      "execution_count": 4,
      "metadata": {
        "colab": {
          "base_uri": "https://localhost:8080/"
        },
        "id": "vagw6TLhjnOI",
        "outputId": "ce15a6a0-3fa1-4630-d62f-29fc4d6535ed"
      },
      "outputs": [
        {
          "output_type": "execute_result",
          "data": {
            "text/plain": [
              "dtype('float64')"
            ]
          },
          "metadata": {},
          "execution_count": 4
        }
      ],
      "source": [
        "arr.dtype"
      ]
    },
    {
      "cell_type": "markdown",
      "metadata": {
        "id": "GsfOdrT_jnOJ"
      },
      "source": [
        "##### Can provide dtype explicitly using dtype\n"
      ]
    },
    {
      "cell_type": "code",
      "execution_count": 5,
      "metadata": {
        "colab": {
          "base_uri": "https://localhost:8080/"
        },
        "id": "VbZNPV0ljnOK",
        "outputId": "71119c53-510e-4b06-ebd0-70d940006e54"
      },
      "outputs": [
        {
          "output_type": "execute_result",
          "data": {
            "text/plain": [
              "array([1, 1, 1, 1, 1])"
            ]
          },
          "metadata": {},
          "execution_count": 5
        }
      ],
      "source": [
        "arr = np.ones(5, dtype=int)\n",
        "arr"
      ]
    },
    {
      "cell_type": "code",
      "execution_count": 6,
      "metadata": {
        "colab": {
          "base_uri": "https://localhost:8080/"
        },
        "id": "wu_8rP7tjnOK",
        "outputId": "9ebab354-542a-4f49-bf37-1fc162c9d7ad"
      },
      "outputs": [
        {
          "output_type": "execute_result",
          "data": {
            "text/plain": [
              "dtype('int64')"
            ]
          },
          "metadata": {},
          "execution_count": 6
        }
      ],
      "source": [
        "arr.dtype"
      ]
    },
    {
      "cell_type": "markdown",
      "metadata": {
        "id": "6WdnAPmVjnOM"
      },
      "source": [
        "##### Creating a 5  x 3 array of ones\n"
      ]
    },
    {
      "cell_type": "code",
      "execution_count": 7,
      "metadata": {
        "colab": {
          "base_uri": "https://localhost:8080/"
        },
        "id": "RRKJ2-kEjnOM",
        "outputId": "5e59e0eb-ff85-4377-89f5-1e68c2ed14cb"
      },
      "outputs": [
        {
          "output_type": "execute_result",
          "data": {
            "text/plain": [
              "array([[1., 1., 1.],\n",
              "       [1., 1., 1.],\n",
              "       [1., 1., 1.],\n",
              "       [1., 1., 1.],\n",
              "       [1., 1., 1.]])"
            ]
          },
          "metadata": {},
          "execution_count": 7
        }
      ],
      "source": [
        "np.ones((5,3))"
      ]
    },
    {
      "cell_type": "markdown",
      "metadata": {
        "id": "Q_TO0GewjnON"
      },
      "source": [
        "##### Creating array of zeros"
      ]
    },
    {
      "cell_type": "code",
      "execution_count": 8,
      "metadata": {
        "colab": {
          "base_uri": "https://localhost:8080/"
        },
        "id": "S3mUaS5ejnON",
        "outputId": "a00e932a-6e0b-48e4-9ac6-5c861c6fb153"
      },
      "outputs": [
        {
          "output_type": "execute_result",
          "data": {
            "text/plain": [
              "array([0., 0., 0., 0., 0.])"
            ]
          },
          "metadata": {},
          "execution_count": 8
        }
      ],
      "source": [
        "np.zeros(5)\n"
      ]
    },
    {
      "cell_type": "code",
      "execution_count": 9,
      "metadata": {
        "colab": {
          "base_uri": "https://localhost:8080/"
        },
        "id": "cc_uG7xgjnOO",
        "outputId": "82c1a4d8-746a-430a-ec33-4651e5b8f59c"
      },
      "outputs": [
        {
          "output_type": "execute_result",
          "data": {
            "text/plain": [
              "array([0, 0, 0, 0, 0])"
            ]
          },
          "metadata": {},
          "execution_count": 9
        }
      ],
      "source": [
        "# convert the type into integer.\n",
        "np.zeros(5, dtype=int)"
      ]
    },
    {
      "cell_type": "code",
      "execution_count": 10,
      "metadata": {
        "colab": {
          "base_uri": "https://localhost:8080/"
        },
        "id": "mr85M-eWjnOP",
        "outputId": "5ceed4de-214f-4d58-acb5-65e9ae3dddaa"
      },
      "outputs": [
        {
          "output_type": "execute_result",
          "data": {
            "text/plain": [
              "[1, 2, 3, 4]"
            ]
          },
          "metadata": {},
          "execution_count": 10
        }
      ],
      "source": [
        "# Create a list of integers range between 1 to 5.\n",
        "list(range(1,5))"
      ]
    },
    {
      "cell_type": "code",
      "execution_count": 11,
      "metadata": {
        "colab": {
          "base_uri": "https://localhost:8080/"
        },
        "id": "rjPKtB9ojnOQ",
        "outputId": "f12319a6-b821-465c-d254-33bf5272d017"
      },
      "outputs": [
        {
          "output_type": "execute_result",
          "data": {
            "text/plain": [
              "array([0, 1, 2])"
            ]
          },
          "metadata": {},
          "execution_count": 11
        }
      ],
      "source": [
        "np.arange(3)"
      ]
    },
    {
      "cell_type": "code",
      "execution_count": 12,
      "metadata": {
        "colab": {
          "base_uri": "https://localhost:8080/"
        },
        "id": "FoCmPLFqjnOR",
        "outputId": "293c7c35-ff0c-445b-bfd8-def986181cd0"
      },
      "outputs": [
        {
          "output_type": "execute_result",
          "data": {
            "text/plain": [
              "array([0., 1., 2.])"
            ]
          },
          "metadata": {},
          "execution_count": 12
        }
      ],
      "source": [
        "np.arange(3.0)"
      ]
    },
    {
      "cell_type": "markdown",
      "metadata": {
        "id": "5HH-KYx8jnOS"
      },
      "source": [
        "##### Notice that 3 is included, 35 is not, as in standard python lists\n",
        "\n",
        "From 3 to 35 with a step of 2"
      ]
    },
    {
      "cell_type": "code",
      "execution_count": 13,
      "metadata": {
        "colab": {
          "base_uri": "https://localhost:8080/"
        },
        "id": "WHkgo5cjjnOS",
        "outputId": "d2b09b9a-331e-4e0d-c5b4-9d7954613c0d"
      },
      "outputs": [
        {
          "output_type": "execute_result",
          "data": {
            "text/plain": [
              "array([ 3,  5,  7,  9, 11, 13, 15, 17, 19, 21, 23, 25, 27, 29, 31, 33])"
            ]
          },
          "metadata": {},
          "execution_count": 13
        }
      ],
      "source": [
        "np.arange(3,35,2)"
      ]
    },
    {
      "cell_type": "markdown",
      "metadata": {
        "id": "tEMeQtfrjnOT"
      },
      "source": [
        "##### Array of random numbers \n"
      ]
    },
    {
      "cell_type": "code",
      "execution_count": 14,
      "metadata": {
        "colab": {
          "base_uri": "https://localhost:8080/"
        },
        "id": "Ahq3JukhjnOU",
        "outputId": "f587e437-05b4-4fcd-b280-8d05627a20ce"
      },
      "outputs": [
        {
          "output_type": "execute_result",
          "data": {
            "text/plain": [
              "array([0, 0, 0, 0, 1, 0, 0, 0, 1, 1])"
            ]
          },
          "metadata": {},
          "execution_count": 14
        }
      ],
      "source": [
        "np.random.randint(2, size=10)"
      ]
    },
    {
      "cell_type": "code",
      "execution_count": 15,
      "metadata": {
        "colab": {
          "base_uri": "https://localhost:8080/"
        },
        "id": "-fouzn8mjnOU",
        "outputId": "2e198472-9f2c-4037-b8c9-f3d9f7706989"
      },
      "outputs": [
        {
          "output_type": "execute_result",
          "data": {
            "text/plain": [
              "array([4, 4, 3, 3, 3, 3, 4, 3, 4, 4])"
            ]
          },
          "metadata": {},
          "execution_count": 15
        }
      ],
      "source": [
        "np.random.randint(3,5, size=10)"
      ]
    },
    {
      "cell_type": "markdown",
      "metadata": {
        "id": "G0Q1y-iIjnOV"
      },
      "source": [
        "##### 2D Array of random numbers \n"
      ]
    },
    {
      "cell_type": "code",
      "execution_count": 16,
      "metadata": {
        "colab": {
          "base_uri": "https://localhost:8080/"
        },
        "id": "D9rnzz8FjnOV",
        "outputId": "ce966750-b141-464a-85bc-22e618a7e12a"
      },
      "outputs": [
        {
          "output_type": "execute_result",
          "data": {
            "text/plain": [
              "array([[0.50486206, 0.52113237, 0.01805835, 0.79977921],\n",
              "       [0.45392594, 0.74489804, 0.53146008, 0.41397018],\n",
              "       [0.33417007, 0.15391447, 0.06825569, 0.75962417]])"
            ]
          },
          "metadata": {},
          "execution_count": 16
        }
      ],
      "source": [
        "np.random.random([3,4])"
      ]
    },
    {
      "cell_type": "markdown",
      "metadata": {
        "id": "oQcXXeQNjnOV"
      },
      "source": [
        "###### Sometimes, you know the length of the array, not the step size\n",
        "\n",
        "Array of length 20 between 1 and 10"
      ]
    },
    {
      "cell_type": "code",
      "execution_count": 17,
      "metadata": {
        "colab": {
          "base_uri": "https://localhost:8080/"
        },
        "id": "2oSZ2lafjnOW",
        "outputId": "f926fbad-b220-4082-be74-b74c7763a175"
      },
      "outputs": [
        {
          "output_type": "execute_result",
          "data": {
            "text/plain": [
              "array([ 1.        ,  1.47368421,  1.94736842,  2.42105263,  2.89473684,\n",
              "        3.36842105,  3.84210526,  4.31578947,  4.78947368,  5.26315789,\n",
              "        5.73684211,  6.21052632,  6.68421053,  7.15789474,  7.63157895,\n",
              "        8.10526316,  8.57894737,  9.05263158,  9.52631579, 10.        ])"
            ]
          },
          "metadata": {},
          "execution_count": 17
        }
      ],
      "source": [
        "np.linspace(1,10,20)"
      ]
    },
    {
      "cell_type": "markdown",
      "source": [
        "# Array 'arange' Function\n",
        "**Description:**\n",
        "\n",
        "Create an array of first 10 multiples of 5 using the 'arange' function."
      ],
      "metadata": {
        "id": "GBgukB01lyMa"
      }
    },
    {
      "cell_type": "code",
      "source": [
        "import numpy as np\n",
        "array_multipleof5 = np.arange(5,55,5)\n",
        "print(array_multipleof5)"
      ],
      "metadata": {
        "colab": {
          "base_uri": "https://localhost:8080/"
        },
        "id": "zvJtMHUJl8GW",
        "outputId": "509eada7-9fd9-42cd-84a4-93f549812b02"
      },
      "execution_count": 18,
      "outputs": [
        {
          "output_type": "stream",
          "name": "stdout",
          "text": [
            "[ 5 10 15 20 25 30 35 40 45 50]\n"
          ]
        }
      ]
    },
    {
      "cell_type": "markdown",
      "source": [
        "# Create border array\n",
        "**Description**\n",
        "Given a single integer n, create an (n x n) 2D array with 1 on the border and 0 on the inside.\n",
        "\n",
        "Note: Make sure the array is of type int.\n",
        "\n",
        "### Example:\n",
        "**Input 1:**\n",
        "4\n",
        "**Output 1:**\n",
        "[[1 1 1 1]\n",
        "[1 0 0 1]\n",
        "[1 0 0 1]\n",
        "[1 1 1 1]]\n",
        "\n",
        "\n",
        "**Input 2:**\n",
        "2\n",
        "**Output 2:**\n",
        "[[1 1] \n",
        " [1 1]] \n"
      ],
      "metadata": {
        "id": "m-8wzDjwm500"
      }
    },
    {
      "cell_type": "code",
      "source": [
        "# Read the variable from STDIN\n",
        "n = int(input())\n",
        "\n",
        "import numpy as np\n",
        "\n",
        "# Create an 'n*n' array of all ones\n",
        "border = np.ones((n,n),dtype=int)\n",
        "if n<=2:\n",
        "    print(border)\n",
        "else:\n",
        "    border[1:-1, 1:-1] = 0\n",
        "    print(border)\n",
        "# Fill the array with zeroes from second index (i.e. index 1) to second last index.\n",
        "# Do this for both row indices and column indices\n",
        "\n",
        "# Print the array created\n",
        "\n"
      ],
      "metadata": {
        "colab": {
          "base_uri": "https://localhost:8080/"
        },
        "id": "yK_AoIjtnIIV",
        "outputId": "a0acc884-3631-434a-9a5c-60d3394cf903"
      },
      "execution_count": 19,
      "outputs": [
        {
          "output_type": "stream",
          "name": "stdout",
          "text": [
            "5\n",
            "[[1 1 1 1 1]\n",
            " [1 0 0 0 1]\n",
            " [1 0 0 0 1]\n",
            " [1 0 0 0 1]\n",
            " [1 1 1 1 1]]\n"
          ]
        }
      ]
    },
    {
      "cell_type": "markdown",
      "metadata": {
        "id": "2OzPVstNjnOW"
      },
      "source": [
        "<h2 style = \"color : Sky blue\"> Exercises </h2>"
      ]
    },
    {
      "cell_type": "markdown",
      "metadata": {
        "id": "KbjgOW6NjnOX"
      },
      "source": [
        "\n",
        "\n",
        "Apart from the methods mentioned above, there are a few more NumPy functions that you can use to create special NumPy arrays:\n",
        "\n",
        "-  `np.full()`: Create a constant array of any number ‘n’\n",
        "-  `np.tile()`: Create a new array by repeating an existing array for a particular number of times\n",
        "-  `np.eye()`: Create an identity matrix of any dimension\n",
        "-  `np.random.randint()`: Create a random array of integers within a particular range"
      ]
    },
    {
      "cell_type": "code",
      "execution_count": 20,
      "metadata": {
        "colab": {
          "base_uri": "https://localhost:8080/"
        },
        "id": "k0rb5OxYjnOl",
        "outputId": "9dfd1928-f843-46c7-edd3-fb2a82ba3103"
      },
      "outputs": [
        {
          "output_type": "execute_result",
          "data": {
            "text/plain": [
              "array([[ 1,  3],\n",
              "       [ 5,  7],\n",
              "       [ 9, 11],\n",
              "       [13, 15]])"
            ]
          },
          "metadata": {},
          "execution_count": 20
        }
      ],
      "source": [
        "np.arange(1,16,2).reshape(4, 2)"
      ]
    },
    {
      "cell_type": "code",
      "source": [
        "# Read the variable from STDIN\n",
        "n = 5 #int(input())\n",
        "\n",
        "import numpy as np\n",
        "border = np.zeros((n,n),dtype=int)\n",
        "border[:,n//2] = 1\n",
        "border[n//2,:] = 1\n",
        "print(border)"
      ],
      "metadata": {
        "colab": {
          "base_uri": "https://localhost:8080/"
        },
        "id": "mXa1swuMqZKp",
        "outputId": "493b2b78-cfe4-4474-b4e8-d529a9781ee5"
      },
      "execution_count": 33,
      "outputs": [
        {
          "output_type": "stream",
          "name": "stdout",
          "text": [
            "[[0 0 1 0 0]\n",
            " [0 0 1 0 0]\n",
            " [1 1 1 1 1]\n",
            " [0 0 1 0 0]\n",
            " [0 0 1 0 0]]\n"
          ]
        }
      ]
    },
    {
      "cell_type": "code",
      "source": [],
      "metadata": {
        "id": "A5hLcRfaq-KE"
      },
      "execution_count": 22,
      "outputs": []
    }
  ],
  "metadata": {
    "kernelspec": {
      "display_name": "Python 3",
      "language": "python",
      "name": "python3"
    },
    "language_info": {
      "codemirror_mode": {
        "name": "ipython",
        "version": 3
      },
      "file_extension": ".py",
      "mimetype": "text/x-python",
      "name": "python",
      "nbconvert_exporter": "python",
      "pygments_lexer": "ipython3",
      "version": "3.7.3"
    },
    "colab": {
      "provenance": [],
      "include_colab_link": true
    }
  },
  "nbformat": 4,
  "nbformat_minor": 0
}