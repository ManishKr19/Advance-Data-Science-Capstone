{
  "nbformat": 4,
  "nbformat_minor": 0,
  "metadata": {
    "colab": {
      "provenance": [],
      "authorship_tag": "ABX9TyPhP0zVKizutptbAsPj0odR",
      "include_colab_link": true
    },
    "kernelspec": {
      "name": "python3",
      "display_name": "Python 3"
    },
    "language_info": {
      "name": "python"
    }
  },
  "cells": [
    {
      "cell_type": "markdown",
      "metadata": {
        "id": "view-in-github",
        "colab_type": "text"
      },
      "source": [
        "<a href=\"https://colab.research.google.com/github/ManishKr19/Advance-Data-Science-Capstone/blob/master/DataToolKit_LIST_Code.ipynb\" target=\"_parent\"><img src=\"https://colab.research.google.com/assets/colab-badge.svg\" alt=\"Open In Colab\"/></a>"
      ]
    },
    {
      "cell_type": "markdown",
      "source": [
        "# Calendar\n",
        "\n",
        "**Description**\n",
        "You are planning to go to your friend's wedding and you have long events all month, lasting at least a few days. You have the start and end dates of events and your task is to find out events overlapping with the wedding date.\n",
        "\n",
        "The code for taking input has already been written for you, please don't modify that, but do read and try to understand the way input has been taken. You will be asked to take input on your own for most of the problems here onwards. Taking data in a suitable format is an important skill for a Data Scientist.\n",
        "\n",
        "----------------------------------------------------------------------\n",
        "**Input:**\n",
        "The input will contain a list of lists where each sub-list has only two elements representing the start and end date of an event, the start date will be less than or equal to the end date. The next line of input will have a wedding date. \n",
        "\n",
        "**Output:**\n",
        "The output should have the number of events overlapping with the wedding date.\n",
        "\n",
        "----------------------------------------------------------------------\n",
        "**Sample input:**\n",
        "[ [29,31], [23,26], [24,25] ]\n",
        "24\n",
        "\n",
        "**Sample output:**\n",
        "2\n",
        "\n",
        "**Explanation:**\n",
        "There are three events in the month.\n",
        "\n",
        "> Event 1= from date 29 to 31\n",
        "\n",
        "> Event 2= from date 23 to 26\n",
        "\n",
        "> Event 3= from date 24 to 25\n",
        "\n",
        "> **Wedding is on 24.** \n",
        "\n",
        "'''This means it will clash with Event 3 and Event 2, that is two events. The output is therefore 2.'''\n",
        "\n",
        "----------------------------------------------------------------------\n",
        "**Sample input:**\n",
        "[ [1, 4], [7, 10], [8, 8], [14, 23] ]\n",
        "26\n",
        "\n",
        "**Sample output:**\n",
        "0\n"
      ],
      "metadata": {
        "id": "RpyPocjJiabJ"
      }
    },
    {
      "cell_type": "code",
      "execution_count": 1,
      "metadata": {
        "colab": {
          "base_uri": "https://localhost:8080/"
        },
        "id": "YWy6Qbzghf_q",
        "outputId": "86dde117-636f-40c0-e20e-53894bdba3b0"
      },
      "outputs": [
        {
          "output_type": "stream",
          "name": "stdout",
          "text": [
            "[ [1, 4], [7, 10], [8, 8], [14, 23] ] \n",
            "26\n",
            "0\n"
          ]
        }
      ],
      "source": [
        "#taking input\n",
        "import ast\n",
        "input_str1 = input()\n",
        "input_list1 = ast.literal_eval(input_str1)\n",
        "events = input_list1\n",
        "\n",
        "wedding = int(input())\n",
        "\n",
        "print(sum([1 for days in events if (wedding>=days[0] and wedding<=days[1])]))"
      ]
    },
    {
      "cell_type": "markdown",
      "source": [
        "# Fenced Matrix\n",
        "**Description**\n",
        "You will be given two positive integers m and n. You have to make a list of lists (which can be visualised as a matrix) of size m*n, that is m sublists (rows), with each sublists having n integers (columns). The matrix should be such that it should have 1 on the border and 0 everywhere else. See sample input and output for more clarification.\n",
        "\n",
        "\n",
        "\n",
        "----------------------------------------------------------------------\n",
        "\n",
        "**Input:** \n",
        "\n",
        "Two integers separated by a comma\n",
        "\n",
        "\n",
        "\n",
        "**Output:**\n",
        "\n",
        "A list of lists of size m*n printed like matrix as shown in the sample output.\n",
        "\n",
        "\n",
        "\n",
        "----------------------------------------------------------------------\n",
        "\n",
        "**Sample input:**\n",
        "\n",
        "4,5"
      ],
      "metadata": {
        "id": "X0lbIiuzo547"
      }
    },
    {
      "cell_type": "code",
      "source": [
        "m,n = map(int, input().split(','))\n",
        "new_matrix = [[0] * n for i in range(m)]\n",
        "for i in range(m):\n",
        "    if(i==0 or i==(m-1)):\n",
        "        new_matrix[i]=[1]*n\n",
        "for i in range(m):\n",
        "    new_matrix[i][0]=1\n",
        "    new_matrix[i][n-1]=1\n",
        "    \n",
        "for i in new_matrix:\n",
        "    print(i)"
      ],
      "metadata": {
        "colab": {
          "base_uri": "https://localhost:8080/"
        },
        "id": "PeRl1NhOlCIs",
        "outputId": "40abe1e9-a2cd-444d-b3ff-56745f3e5e15"
      },
      "execution_count": 2,
      "outputs": [
        {
          "output_type": "stream",
          "name": "stdout",
          "text": [
            "3,2\n",
            "[1, 1]\n",
            "[1, 1]\n",
            "[1, 1]\n"
          ]
        }
      ]
    },
    {
      "cell_type": "code",
      "source": [],
      "metadata": {
        "id": "ZaFguFi6o64b"
      },
      "execution_count": null,
      "outputs": []
    }
  ]
}