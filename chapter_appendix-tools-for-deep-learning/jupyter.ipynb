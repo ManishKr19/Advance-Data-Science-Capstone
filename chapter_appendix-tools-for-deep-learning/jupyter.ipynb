{
  "cells": [
    {
      "cell_type": "code",
      "source": [
        "num=6 #int(input())\n",
        "print([num**2 for num in range(1,num)])\n",
        "\n",
        "#syntax: [expression >> iteration >> condition checking]"
      ],
      "metadata": {
        "id": "KmHrVjMxWOdU",
        "outputId": "8f1519d4-38ba-4045-8dca-3a7661eac09b",
        "colab": {
          "base_uri": "https://localhost:8080/"
        }
      },
      "id": "KmHrVjMxWOdU",
      "execution_count": 3,
      "outputs": [
        {
          "output_type": "stream",
          "name": "stdout",
          "text": [
            "[1, 4, 9, 16, 25]\n"
          ]
        }
      ]
    },
    {
      "cell_type": "code",
      "source": [
        "print([num*100 for num in range(1,6)])"
      ],
      "metadata": {
        "id": "09B-Cj1FYPes",
        "outputId": "ba74b191-27d1-4c18-9152-3295735bb851",
        "colab": {
          "base_uri": "https://localhost:8080/"
        }
      },
      "id": "09B-Cj1FYPes",
      "execution_count": 2,
      "outputs": [
        {
          "output_type": "stream",
          "name": "stdout",
          "text": [
            "[100, 200, 300, 400, 500]\n"
          ]
        }
      ]
    },
    {
      "cell_type": "markdown",
      "source": [
        "****Important****"
      ],
      "metadata": {
        "id": "n32AmrrefV1h"
      },
      "id": "n32AmrrefV1h"
    },
    {
      "cell_type": "code",
      "source": [
        "print([num for num in range(1,15) if num%4==0])"
      ],
      "metadata": {
        "id": "pHYb1Xb4ZRUl",
        "outputId": "4ca427f7-4e24-49c3-8749-b6aa7ff4a969",
        "colab": {
          "base_uri": "https://localhost:8080/"
        }
      },
      "id": "pHYb1Xb4ZRUl",
      "execution_count": 4,
      "outputs": [
        {
          "output_type": "stream",
          "name": "stdout",
          "text": [
            "[4, 8, 12]\n"
          ]
        }
      ]
    },
    {
      "cell_type": "code",
      "source": [
        "age = int(input())\n",
        "print(\"Yes\" if age>=18 else \"No\")"
      ],
      "metadata": {
        "id": "5K11I8SbZvzU",
        "outputId": "5a1cd32e-810a-47ca-8a53-426a4a0ea372",
        "colab": {
          "base_uri": "https://localhost:8080/"
        }
      },
      "id": "5K11I8SbZvzU",
      "execution_count": 5,
      "outputs": [
        {
          "output_type": "stream",
          "name": "stdout",
          "text": [
            "15\n",
            "No\n"
          ]
        }
      ]
    },
    {
      "cell_type": "code",
      "source": [
        "print(\"Even\" if int(input())%2==0 else \"Odd\")"
      ],
      "metadata": {
        "id": "NC1iQemta-nU",
        "outputId": "38148819-6f3b-4cf3-ead1-6649b347d2b3",
        "colab": {
          "base_uri": "https://localhost:8080/"
        }
      },
      "id": "NC1iQemta-nU",
      "execution_count": 7,
      "outputs": [
        {
          "output_type": "stream",
          "name": "stdout",
          "text": [
            "24\n",
            "Even\n"
          ]
        }
      ]
    },
    {
      "cell_type": "code",
      "source": [
        "#print([(\"{} is even\".format(num)) if(num%2==0) else (\"{} is odd\".format(num)) for num in range(1,20) if num%3==0])\n",
        "\n",
        "print([f'{num} is even' if(num%2==0) else f'{num} is odd' for num in range(1,20) if num%3==0])"
      ],
      "metadata": {
        "id": "R8Cpjo6hZKze",
        "outputId": "7d2823d0-6a48-4652-b212-31185bf012be",
        "colab": {
          "base_uri": "https://localhost:8080/"
        }
      },
      "id": "R8Cpjo6hZKze",
      "execution_count": 29,
      "outputs": [
        {
          "output_type": "stream",
          "name": "stdout",
          "text": [
            "['3 is odd', '6 is even', '9 is odd', '12 is even', '15 is odd', '18 is even']\n"
          ]
        }
      ]
    },
    {
      "cell_type": "code",
      "source": [
        "#print([f'{num} is even' if(num%2==0) else f'{num} is odd' for num in range(1,20) if num%3==0])"
      ],
      "metadata": {
        "id": "pM8BgIsSf7Uf"
      },
      "id": "pM8BgIsSf7Uf",
      "execution_count": 31,
      "outputs": []
    },
    {
      "cell_type": "code",
      "source": [
        "colors = ['red','green','orange','black','indigo']\n",
        "print([color for color in colors if color[0].lower() in 'aeiou'])\n"
      ],
      "metadata": {
        "id": "dc1qiKCRg_yI",
        "outputId": "5a20fe63-e1fd-47c5-c5d1-2174541c35a3",
        "colab": {
          "base_uri": "https://localhost:8080/"
        }
      },
      "id": "dc1qiKCRg_yI",
      "execution_count": 33,
      "outputs": [
        {
          "output_type": "stream",
          "name": "stdout",
          "text": [
            "['orange', 'indigo']\n"
          ]
        }
      ]
    },
    {
      "cell_type": "markdown",
      "source": [
        "**giftBox** = 'bread iph*one butter ip*ad milk'\n",
        "\n",
        "**giftBoxItems** = giftBox.split()\n",
        "\n",
        "**['iph*one' , 'ip*ad']**"
      ],
      "metadata": {
        "id": "qiEhLRpkiwbY"
      },
      "id": "qiEhLRpkiwbY"
    },
    {
      "cell_type": "code",
      "source": [
        "giftBox = 'bread iph*one butter ip*ad milk'\n",
        "giftBox.split()\n",
        "#print([item for item in list(map(str, giftBox.split())) if item[0].lower()=='i'])"
      ],
      "metadata": {
        "id": "wvDfRKBohWX7",
        "outputId": "471353a9-9c3e-4503-804f-c6e322cea59d",
        "colab": {
          "base_uri": "https://localhost:8080/"
        }
      },
      "id": "wvDfRKBohWX7",
      "execution_count": 36,
      "outputs": [
        {
          "output_type": "execute_result",
          "data": {
            "text/plain": [
              "['bread', 'iph*one', 'butter', 'ip*ad', 'milk']"
            ]
          },
          "metadata": {},
          "execution_count": 36
        }
      ]
    },
    {
      "cell_type": "code",
      "source": [
        "# exercise: create a dictionary for weight in grams\n",
        "wt_kgs = [80,87,89,31,97]\n",
        "\n",
        "print({weight:weight*1000 for weight in wt_kgs})"
      ],
      "metadata": {
        "id": "rnCaMKXtjNFw",
        "outputId": "884909ba-1a90-4d39-b22d-b7d822ba7abf",
        "colab": {
          "base_uri": "https://localhost:8080/"
        }
      },
      "id": "rnCaMKXtjNFw",
      "execution_count": 40,
      "outputs": [
        {
          "output_type": "stream",
          "name": "stdout",
          "text": [
            "{80: 80000, 87: 87000, 89: 89000, 31: 31000, 97: 97000}\n"
          ]
        }
      ]
    },
    {
      "cell_type": "code",
      "source": [
        "# groceries >> 'item':price(in dollars)\n",
        "groceries = {'milk':3, 'apples':5.5, 'bread':4}\n",
        "\n",
        "# get output as price in rupees [1 dollar = 80 rupees]\n",
        "# HINT: don't target solution directly but go \n",
        "\n",
        "\n",
        "print({item:groceries[item]*80 for item in groceries})"
      ],
      "metadata": {
        "id": "jTD5gr-Rk65t",
        "outputId": "f97b4230-de06-48a1-a43a-dca1b733d513",
        "colab": {
          "base_uri": "https://localhost:8080/"
        }
      },
      "id": "jTD5gr-Rk65t",
      "execution_count": 41,
      "outputs": [
        {
          "output_type": "stream",
          "name": "stdout",
          "text": [
            "{'milk': 240, 'apples': 440.0, 'bread': 320}\n"
          ]
        }
      ]
    },
    {
      "cell_type": "code",
      "source": [
        "print({x:y*80 for x,y in groceries.items() if x[0].lower() in 'aeiou'})"
      ],
      "metadata": {
        "id": "PbiXFoalmOzj",
        "outputId": "3d319a14-cb49-44d9-e3ad-91510727deab",
        "colab": {
          "base_uri": "https://localhost:8080/"
        }
      },
      "id": "PbiXFoalmOzj",
      "execution_count": 44,
      "outputs": [
        {
          "output_type": "stream",
          "name": "stdout",
          "text": [
            "{'apples': 440.0}\n"
          ]
        }
      ]
    },
    {
      "cell_type": "code",
      "source": [],
      "metadata": {
        "id": "zBO8HwDEn5NS"
      },
      "id": "zBO8HwDEn5NS",
      "execution_count": null,
      "outputs": []
    }
  ],
  "metadata": {
    "kernelspec": {
      "display_name": "Python 3",
      "name": "python3"
    },
    "language_info": {
      "name": "python"
    },
    "colab": {
      "provenance": []
    }
  },
  "nbformat": 4,
  "nbformat_minor": 5
}