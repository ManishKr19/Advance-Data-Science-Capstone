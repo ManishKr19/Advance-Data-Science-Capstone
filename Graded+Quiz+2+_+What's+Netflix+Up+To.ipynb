{
  "cells": [
    {
      "cell_type": "markdown",
      "metadata": {
        "id": "view-in-github",
        "colab_type": "text"
      },
      "source": [
        "<a href=\"https://colab.research.google.com/github/ManishKr19/Advance-Data-Science-Capstone/blob/master/Graded%2BQuiz%2B2%2B_%2BWhat's%2BNetflix%2BUp%2BTo.ipynb\" target=\"_parent\"><img src=\"https://colab.research.google.com/assets/colab-badge.svg\" alt=\"Open In Colab\"/></a>"
      ]
    },
    {
      "cell_type": "markdown",
      "metadata": {
        "id": "VNtKIOgd5xRg"
      },
      "source": [
        "The `netflix` dictionary contains a list of 100 titles along with their total number of views in the past. Based on the keys and values provided in this dictionary, answer the questions given below."
      ]
    },
    {
      "cell_type": "code",
      "execution_count": 9,
      "metadata": {
        "id": "_MQLR4c15xRl"
      },
      "outputs": [],
      "source": [
        "netflix = {'The Debt Collector': 1821195, 'Act of Vengeance': 2804479, 'Paradise Lost': 2195477, \"Gerald's Game\": 3650626, 'Long Shot': 638440, 'Mak Cun': 1010311, 'Our Souls at Night': 3028705, 'Out of Thin Air': 2681938, \"Paul Hollywood's Big Continental Road Trip\": 230689, 'Satu Hari': 1012350, 'Monster High: Boo York, Boo York': 1526025, 'Cultivating the Seas: History and Future of the Full-Cycle Cultured Kindai Tuna': 2762103, 'Domino': 872663, 'TUNA GIRL': 2574816, '5CM': 2647713, 'Animal World': 220789, 'Hold the Dark': 2307432, 'Lessons from a School Shooting: Notes from Dunblane': 2419534, 'Made in Mexico': 3653712, 'Single': 239278, 'The 3rd Eye': 196138, 'The Sinking Of Van Der Wijck': 2831856, 'Two Catalonias': 1337119, 'Bobby Sands: 66 Days': 2005623, 'Bard of Blood': 744998, 'Deliha 2': 3638900, 'Dragons: Rescue Riders': 3241239, 'In the Shadow of the Moon': 1213329, 'Skylines': 1840094, 'Sturgill Simpson Presents Sound & Fury': 1915540, 'The Politician': 1019394, 'Weeds on Fire': 2273090, 'Much Loved': 3039852, 'Joseph: King of Dreams': 1734449, 'Malaal': 1926128, 'The Grandmaster': 2549410, 'The Inmate': 130965, 'The Hurricane Heist': 2191538, 'Def Comedy Jam 25': 1392697, 'Restless Creature: Wendy Whelan': 2474412, 'Print the Legend': 548250, 'Birders': 3478883, 'Furie': 2755115, 'Leap!': 1401638, 'Oh! Baby (Malayalam)': 839139, 'Oh! Baby (Tamil)': 2691505, 'USS Indianapolis: Men of Courage': 3286014, 'A Wrinkle in Time': 1258861, 'Teach Us All': 2428947, 'White Island': 1152905, 'Inside Man: Most Wanted': 2812661, 'Jeff Dunham: Beside Himself': 2930368, 'China Salesman': 3377292, 'Swearnet: The Movie': 949689, 'The Bar': 620655, 'Manmadhudu 2': 1842761, 'Team Kaylie': 359856, 'Under the Eiffel Tower': 2298237, 'Audrie & Daisy': 1573055, 'Iliza Shlesinger: Confirmed Kills': 365220, 'BONDING': 1664242, 'Do Paise Ki Dhoop Chaar Aane Ki Baarish': 2770879, '20 Feet From Stardom': 2931730, 'In Darkness': 3248749, 'Gaga: Five Foot Two': 3719550, 'The Bad Batch': 3656264, 'SMOSH: The Movie': 3697506, 'King of Boys': 584112, 'Merry Men: The Real Yoruba Demons': 2035595, \"Sarah's Key\": 1337902, 'The Wedding Party 2: Destination Dubai': 1471204, 'Vagabond': 1600432, 'Battlefish': 723021, 'DRAGON PILOT: Hisone & Masotan': 602919, 'Hilda': 54948, 'Maniac': 1348196, 'Quincy': 2601704, 'Rafinha Bastos: Ultimatum': 3469996, 'The Good Cop': 2265521, 'Between Two Ferns: The Movie': 3146508, 'Criminal: France': 2021409, 'Criminal: Germany': 658824, 'Criminal: Spain': 3078634, 'Criminal: UK': 2721398, 'Daddy Issues': 2119035, \"Inside Bill's Brain: Decoding Bill Gates\": 1755104, 'The Hockey Girls': 2000507, 'Travel Mates 2': 707260, 'True: Tricky Treat Day': 3213199, 'Two Sentence Horror Stories': 2438329, 'Mad World': 2281773, 'Mobile Suit Gundam UC': 778879, 'The Bund': 1729892, 'The First Line': 674591, 'Maynard': 84986, 'Monkey Twins': 3277179, 'Bitcoin Heist': 1450158, 'I Am Not Madame Bovary': 2763830, 'Vincent N Roxxy': 1961810, \"Chef's Table: France\": 2065738}"
      ]
    },
    {
      "cell_type": "markdown",
      "metadata": {
        "id": "A7n_DhM25xRo"
      },
      "source": [
        "#### Q1. There's an Indian movie in the dictionary named `Do Paise Ki Dhoop Chaar Aane Ki Baarish`. What is the number of views for this movie?\n",
        "- 90,854\n",
        "- 658,824\n",
        "- 1,023,597\n",
        "- 2,770,879"
      ]
    },
    {
      "cell_type": "code",
      "source": [
        "netflix['Do Paise Ki Dhoop Chaar Aane Ki Baarish']"
      ],
      "metadata": {
        "colab": {
          "base_uri": "https://localhost:8080/"
        },
        "id": "2cg3rEaT55jb",
        "outputId": "163ad0c9-79a1-4a56-a6e0-79a06ddbe028"
      },
      "execution_count": 10,
      "outputs": [
        {
          "output_type": "execute_result",
          "data": {
            "text/plain": [
              "2770879"
            ]
          },
          "metadata": {},
          "execution_count": 10
        }
      ]
    },
    {
      "cell_type": "markdown",
      "metadata": {
        "id": "pU_8Py-t5xRp"
      },
      "source": [
        "#### Q2. Which of the shows is the most and least popular in terms of number of views? </br> \n",
        "(Hint: Use the `key` argument in the max() and min() functions.)\n",
        "- Monkey Twins, Maynard\n",
        "- Gaga: Five Foot Two, Hilda\n",
        "- Gerald's Game, White Island\n",
        "- Rafinha Bastos: Ultimatum, The First Line"
      ]
    },
    {
      "cell_type": "code",
      "source": [
        "maxx = max(netflix.values())\n",
        "minn = min(netflix.values())\n",
        "\n",
        "for item in netflix:\n",
        "  if netflix[item]==maxx:\n",
        "    print(\"maxx\",item,netflix[item])\n",
        "  elif netflix[item]==minn:\n",
        "    print(\"minn\",item,netflix[item])"
      ],
      "metadata": {
        "colab": {
          "base_uri": "https://localhost:8080/"
        },
        "id": "YHLoNI8S6K-i",
        "outputId": "301fda98-691e-4d09-8f3b-b89648fd2382"
      },
      "execution_count": 11,
      "outputs": [
        {
          "output_type": "stream",
          "name": "stdout",
          "text": [
            "maxx Gaga: Five Foot Two 3719550\n",
            "minn Hilda 54948\n"
          ]
        }
      ]
    },
    {
      "cell_type": "markdown",
      "metadata": {
        "id": "4fmMtItw5xRq"
      },
      "source": [
        "Netflix has just recieved the number of views for the last week as well. This data is given below, in the form of a dictionary"
      ]
    },
    {
      "cell_type": "code",
      "execution_count": 4,
      "metadata": {
        "id": "DTQ0AXgN5xRq"
      },
      "outputs": [],
      "source": [
        "netflix_last_week = {'The Debt Collector': 229218, 'Act of Vengeance': 191468, 'Paradise Lost': 167846, \"Gerald's Game\": 113298, 'Long Shot': 15190, 'Mak Cun': 244581, 'Our Souls at Night': 188095, 'Out of Thin Air': 183961, \"Paul Hollywood's Big Continental Road Trip\": 207967, 'Satu Hari': 226211, 'Monster High: Boo York, Boo York': 265919, 'Cultivating the Seas: History and Future of the Full-Cycle Cultured Kindai Tuna': 192246, 'Domino': 190538, 'TUNA GIRL': 301819, '5CM': 154371, 'Animal World': 228227, 'Hold the Dark': 222938, 'Lessons from a School Shooting: Notes from Dunblane': 256580, 'Made in Mexico': 199790, 'Single': 155517, 'The 3rd Eye': 251349, 'The Sinking Of Van Der Wijck': 153797, 'Two Catalonias': 189422, 'Bobby Sands: 66 Days': 202461, 'Bard of Blood': 241928, 'Deliha 2': 304552, 'Dragons: Rescue Riders': 155149, 'In the Shadow of the Moon': 222999, 'Skylines': 118737, 'Sturgill Simpson Presents Sound & Fury': 43590, 'The Politician': 11902, 'Weeds on Fire': 243382, 'Much Loved': 190123, 'Joseph: King of Dreams': 46104, 'Malaal': 70961, 'The Grandmaster': 44908, 'The Inmate': 19574, 'The Hurricane Heist': 167696, 'Def Comedy Jam 25': 208075, 'Restless Creature: Wendy Whelan': 22976, 'Print the Legend': 161584, 'Birders': 257668, 'Furie': 282266, 'Leap!': 124338, 'Oh! Baby (Malayalam)': 18203, 'Oh! Baby (Tamil)': 131481, 'USS Indianapolis: Men of Courage': 76558, 'A Wrinkle in Time': 169365, 'Teach Us All': 50378, 'White Island': 299779, 'Inside Man: Most Wanted': 123346, 'Jeff Dunham: Beside Himself': 283561, 'China Salesman': 182041, 'Swearnet: The Movie': 63809, 'The Bar': 41243, 'Manmadhudu 2': 261349, 'Team Kaylie': 101283, 'Under the Eiffel Tower': 83650, 'Audrie & Daisy': 106092, 'Iliza Shlesinger: Confirmed Kills': 255103, 'BONDING': 202683, 'Do Paise Ki Dhoop Chaar Aane Ki Baarish': 32329, '20 Feet From Stardom': 165178, 'In Darkness': 95259, 'Gaga: Five Foot Two': 36638, 'The Bad Batch': 197820, 'SMOSH: The Movie': 196519, 'King of Boys': 49332, 'Merry Men: The Real Yoruba Demons': 293229, \"Sarah's Key\": 178523, 'The Wedding Party 2: Destination Dubai': 51211, 'Vagabond': 116831, 'Battlefish': 5448, 'DRAGON PILOT: Hisone & Masotan': 281873, 'Hilda': 21348, 'Maniac': 268187, 'Quincy': 139696, 'Rafinha Bastos: Ultimatum': 105449, 'The Good Cop': 73230, 'Between Two Ferns: The Movie': 135600, 'Criminal: France': 243469, 'Criminal: Germany': 285211, 'Criminal: Spain': 45184, 'Criminal: UK': 117056, 'Daddy Issues': 267329, \"Inside Bill's Brain: Decoding Bill Gates\": 64083, 'The Hockey Girls': 114146, 'Travel Mates 2': 21088, 'True: Tricky Treat Day': 116504, 'Two Sentence Horror Stories': 274471, 'Mad World': 225244, 'Mobile Suit Gundam UC': 47306, 'The Bund': 146872, 'The First Line': 148861, 'Maynard': 87252, 'Monkey Twins': 199274, 'Bitcoin Heist': 41105, 'I Am Not Madame Bovary': 57841, 'Vincent N Roxxy': 207453, \"Chef's Table: France\": 200536}"
      ]
    },
    {
      "cell_type": "markdown",
      "metadata": {
        "id": "rWak6zcJ5xRr"
      },
      "source": [
        "#### Q3. Netflix has just recieved the number of views for the last week as well. Add these views to the total views and find the most popular title in terms of views. Also find out how many views this title has? \n",
        "- Title: Deliha 2, Views: 3943452\n",
        "- Title: Dragons: Rescue Riders, Views: 3996388\n",
        "- Title: Rafinha Bastos: Ultimatum, Views: 3575445\n",
        "- Title: Gaga: Five Foot Two, Views: 3756188"
      ]
    },
    {
      "cell_type": "code",
      "source": [
        "print(netflix)\n",
        "for item in netflix_last_week:\n",
        "  netflix[item] += netflix_last_week[item]\n",
        "\n",
        "for i in netflix:\n",
        "  print(i,netflix[i])"
      ],
      "metadata": {
        "colab": {
          "base_uri": "https://localhost:8080/"
        },
        "id": "drvYNB5L7EB3",
        "outputId": "15fa9de1-650c-4dc4-d95a-0f7eb10e9944"
      },
      "execution_count": 6,
      "outputs": [
        {
          "output_type": "stream",
          "name": "stdout",
          "text": [
            "{'The Debt Collector': 2050413, 'Act of Vengeance': 2995947, 'Paradise Lost': 2363323, \"Gerald's Game\": 3763924, 'Long Shot': 653630, 'Mak Cun': 1254892, 'Our Souls at Night': 3216800, 'Out of Thin Air': 2865899, \"Paul Hollywood's Big Continental Road Trip\": 438656, 'Satu Hari': 1238561, 'Monster High: Boo York, Boo York': 1791944, 'Cultivating the Seas: History and Future of the Full-Cycle Cultured Kindai Tuna': 2954349, 'Domino': 1063201, 'TUNA GIRL': 2876635, '5CM': 2802084, 'Animal World': 449016, 'Hold the Dark': 2530370, 'Lessons from a School Shooting: Notes from Dunblane': 2676114, 'Made in Mexico': 3853502, 'Single': 394795, 'The 3rd Eye': 447487, 'The Sinking Of Van Der Wijck': 2985653, 'Two Catalonias': 1526541, 'Bobby Sands: 66 Days': 2208084, 'Bard of Blood': 986926, 'Deliha 2': 3943452, 'Dragons: Rescue Riders': 3396388, 'In the Shadow of the Moon': 1436328, 'Skylines': 1958831, 'Sturgill Simpson Presents Sound & Fury': 1959130, 'The Politician': 1031296, 'Weeds on Fire': 2516472, 'Much Loved': 3229975, 'Joseph: King of Dreams': 1780553, 'Malaal': 1997089, 'The Grandmaster': 2594318, 'The Inmate': 150539, 'The Hurricane Heist': 2359234, 'Def Comedy Jam 25': 1600772, 'Restless Creature: Wendy Whelan': 2497388, 'Print the Legend': 709834, 'Birders': 3736551, 'Furie': 3037381, 'Leap!': 1525976, 'Oh! Baby (Malayalam)': 857342, 'Oh! Baby (Tamil)': 2822986, 'USS Indianapolis: Men of Courage': 3362572, 'A Wrinkle in Time': 1428226, 'Teach Us All': 2479325, 'White Island': 1452684, 'Inside Man: Most Wanted': 2936007, 'Jeff Dunham: Beside Himself': 3213929, 'China Salesman': 3559333, 'Swearnet: The Movie': 1013498, 'The Bar': 661898, 'Manmadhudu 2': 2104110, 'Team Kaylie': 461139, 'Under the Eiffel Tower': 2381887, 'Audrie & Daisy': 1679147, 'Iliza Shlesinger: Confirmed Kills': 620323, 'BONDING': 1866925, 'Do Paise Ki Dhoop Chaar Aane Ki Baarish': 2803208, '20 Feet From Stardom': 3096908, 'In Darkness': 3344008, 'Gaga: Five Foot Two': 3756188, 'The Bad Batch': 3854084, 'SMOSH: The Movie': 3894025, 'King of Boys': 633444, 'Merry Men: The Real Yoruba Demons': 2328824, \"Sarah's Key\": 1516425, 'The Wedding Party 2: Destination Dubai': 1522415, 'Vagabond': 1717263, 'Battlefish': 728469, 'DRAGON PILOT: Hisone & Masotan': 884792, 'Hilda': 76296, 'Maniac': 1616383, 'Quincy': 2741400, 'Rafinha Bastos: Ultimatum': 3575445, 'The Good Cop': 2338751, 'Between Two Ferns: The Movie': 3282108, 'Criminal: France': 2264878, 'Criminal: Germany': 944035, 'Criminal: Spain': 3123818, 'Criminal: UK': 2838454, 'Daddy Issues': 2386364, \"Inside Bill's Brain: Decoding Bill Gates\": 1819187, 'The Hockey Girls': 2114653, 'Travel Mates 2': 728348, 'True: Tricky Treat Day': 3329703, 'Two Sentence Horror Stories': 2712800, 'Mad World': 2507017, 'Mobile Suit Gundam UC': 826185, 'The Bund': 1876764, 'The First Line': 823452, 'Maynard': 172238, 'Monkey Twins': 3476453, 'Bitcoin Heist': 1491263, 'I Am Not Madame Bovary': 2821671, 'Vincent N Roxxy': 2169263, \"Chef's Table: France\": 2266274}\n",
            "The Debt Collector 2279631\n",
            "Act of Vengeance 3187415\n",
            "Paradise Lost 2531169\n",
            "Gerald's Game 3877222\n",
            "Long Shot 668820\n",
            "Mak Cun 1499473\n",
            "Our Souls at Night 3404895\n",
            "Out of Thin Air 3049860\n",
            "Paul Hollywood's Big Continental Road Trip 646623\n",
            "Satu Hari 1464772\n",
            "Monster High: Boo York, Boo York 2057863\n",
            "Cultivating the Seas: History and Future of the Full-Cycle Cultured Kindai Tuna 3146595\n",
            "Domino 1253739\n",
            "TUNA GIRL 3178454\n",
            "5CM 2956455\n",
            "Animal World 677243\n",
            "Hold the Dark 2753308\n",
            "Lessons from a School Shooting: Notes from Dunblane 2932694\n",
            "Made in Mexico 4053292\n",
            "Single 550312\n",
            "The 3rd Eye 698836\n",
            "The Sinking Of Van Der Wijck 3139450\n",
            "Two Catalonias 1715963\n",
            "Bobby Sands: 66 Days 2410545\n",
            "Bard of Blood 1228854\n",
            "Deliha 2 4248004\n",
            "Dragons: Rescue Riders 3551537\n",
            "In the Shadow of the Moon 1659327\n",
            "Skylines 2077568\n",
            "Sturgill Simpson Presents Sound & Fury 2002720\n",
            "The Politician 1043198\n",
            "Weeds on Fire 2759854\n",
            "Much Loved 3420098\n",
            "Joseph: King of Dreams 1826657\n",
            "Malaal 2068050\n",
            "The Grandmaster 2639226\n",
            "The Inmate 170113\n",
            "The Hurricane Heist 2526930\n",
            "Def Comedy Jam 25 1808847\n",
            "Restless Creature: Wendy Whelan 2520364\n",
            "Print the Legend 871418\n",
            "Birders 3994219\n",
            "Furie 3319647\n",
            "Leap! 1650314\n",
            "Oh! Baby (Malayalam) 875545\n",
            "Oh! Baby (Tamil) 2954467\n",
            "USS Indianapolis: Men of Courage 3439130\n",
            "A Wrinkle in Time 1597591\n",
            "Teach Us All 2529703\n",
            "White Island 1752463\n",
            "Inside Man: Most Wanted 3059353\n",
            "Jeff Dunham: Beside Himself 3497490\n",
            "China Salesman 3741374\n",
            "Swearnet: The Movie 1077307\n",
            "The Bar 703141\n",
            "Manmadhudu 2 2365459\n",
            "Team Kaylie 562422\n",
            "Under the Eiffel Tower 2465537\n",
            "Audrie & Daisy 1785239\n",
            "Iliza Shlesinger: Confirmed Kills 875426\n",
            "BONDING 2069608\n",
            "Do Paise Ki Dhoop Chaar Aane Ki Baarish 2835537\n",
            "20 Feet From Stardom 3262086\n",
            "In Darkness 3439267\n",
            "Gaga: Five Foot Two 3792826\n",
            "The Bad Batch 4051904\n",
            "SMOSH: The Movie 4090544\n",
            "King of Boys 682776\n",
            "Merry Men: The Real Yoruba Demons 2622053\n",
            "Sarah's Key 1694948\n",
            "The Wedding Party 2: Destination Dubai 1573626\n",
            "Vagabond 1834094\n",
            "Battlefish 733917\n",
            "DRAGON PILOT: Hisone & Masotan 1166665\n",
            "Hilda 97644\n",
            "Maniac 1884570\n",
            "Quincy 2881096\n",
            "Rafinha Bastos: Ultimatum 3680894\n",
            "The Good Cop 2411981\n",
            "Between Two Ferns: The Movie 3417708\n",
            "Criminal: France 2508347\n",
            "Criminal: Germany 1229246\n",
            "Criminal: Spain 3169002\n",
            "Criminal: UK 2955510\n",
            "Daddy Issues 2653693\n",
            "Inside Bill's Brain: Decoding Bill Gates 1883270\n",
            "The Hockey Girls 2228799\n",
            "Travel Mates 2 749436\n",
            "True: Tricky Treat Day 3446207\n",
            "Two Sentence Horror Stories 2987271\n",
            "Mad World 2732261\n",
            "Mobile Suit Gundam UC 873491\n",
            "The Bund 2023636\n",
            "The First Line 972313\n",
            "Maynard 259490\n",
            "Monkey Twins 3675727\n",
            "Bitcoin Heist 1532368\n",
            "I Am Not Madame Bovary 2879512\n",
            "Vincent N Roxxy 2376716\n",
            "Chef's Table: France 2466810\n"
          ]
        }
      ]
    },
    {
      "cell_type": "code",
      "source": [],
      "metadata": {
        "id": "gjpEZo9p7u4x"
      },
      "execution_count": null,
      "outputs": []
    }
  ],
  "metadata": {
    "kernelspec": {
      "display_name": "Python 3",
      "language": "python",
      "name": "python3"
    },
    "language_info": {
      "codemirror_mode": {
        "name": "ipython",
        "version": 3
      },
      "file_extension": ".py",
      "mimetype": "text/x-python",
      "name": "python",
      "nbconvert_exporter": "python",
      "pygments_lexer": "ipython3",
      "version": "3.6.5"
    },
    "colab": {
      "provenance": [],
      "include_colab_link": true
    }
  },
  "nbformat": 4,
  "nbformat_minor": 0
}