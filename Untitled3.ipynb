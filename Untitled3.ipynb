{
  "nbformat": 4,
  "nbformat_minor": 0,
  "metadata": {
    "colab": {
      "provenance": [],
      "authorship_tag": "ABX9TyP96mipOvvkDNqcDtKlEyUi",
      "include_colab_link": true
    },
    "kernelspec": {
      "name": "python3",
      "display_name": "Python 3"
    },
    "language_info": {
      "name": "python"
    }
  },
  "cells": [
    {
      "cell_type": "markdown",
      "metadata": {
        "id": "view-in-github",
        "colab_type": "text"
      },
      "source": [
        "<a href=\"https://colab.research.google.com/github/ManishKr19/Advance-Data-Science-Capstone/blob/master/Untitled3.ipynb\" target=\"_parent\"><img src=\"https://colab.research.google.com/assets/colab-badge.svg\" alt=\"Open In Colab\"/></a>"
      ]
    },
    {
      "cell_type": "code",
      "source": [
        "d=dict(a=1, b=2)\n",
        "d,type(d)"
      ],
      "metadata": {
        "colab": {
          "base_uri": "https://localhost:8080/"
        },
        "id": "d4Hs8Bbkp7G9",
        "outputId": "721e60c1-91fc-4a74-8956-711bfb0a0554"
      },
      "execution_count": 2,
      "outputs": [
        {
          "output_type": "execute_result",
          "data": {
            "text/plain": [
              "({'a': 1, 'b': 2}, dict)"
            ]
          },
          "metadata": {},
          "execution_count": 2
        }
      ]
    },
    {
      "cell_type": "markdown",
      "source": [
        "Dictionary And List\n",
        "Description\n",
        "You will be converting a dictionary, of string(keys) and list of string (values),  to a list of strings. Please check the sample input/output for clarification.\n",
        "\n",
        "\n",
        "Input:\n",
        "A dictionary with keys as strings and values as a list of strings.\n",
        "\n",
        "Output:\n",
        "A list of strings\n",
        "\n",
        "\n",
        "Sample input:\n",
        "{‘Mobile’: [‘Redmi’, ‘Samsung’, ‘Realme’], \n",
        "‘Laptop’: [‘Dell’, ‘HP’],\n",
        "‘TV’: [‘Videocon’, ‘Sony’] }\n",
        "\n",
        "Sample output:\n",
        "[‘Mobile_Redmi’, ‘Mobile_Samsung’, ‘Mobile_Realme’, ‘Laptop_Dell’, ‘Laptop_HP’, ‘TV_Videocon’, ‘TV_Sony’]\n",
        "\n",
        "\n",
        "Sample input:\n",
        "{ 'Pen': ['Gel', 'Ink', 'ball'],\n",
        "'Mobile': ['Android', 'apple'] }\n",
        "\n",
        "Sample output:\n",
        "['Pen_Gel', 'Pen_Ink', 'Pen_ball', 'Mobile_Android', 'Mobile_apple']\n"
      ],
      "metadata": {
        "id": "pP924vBItBd8"
      }
    },
    {
      "cell_type": "code",
      "source": [
        "#input has been taken for you\n",
        "import ast\n",
        "input_str = input()\n",
        "#input dictionary has been received in input_dict\n",
        "input_dict = ast.literal_eval(input_str)\n",
        "res = []\n",
        "for key in input_dict:\n",
        "    res.extend([(key+'_'+value) for value in input_dict[key]])\n",
        "\n",
        "print(res)"
      ],
      "metadata": {
        "colab": {
          "base_uri": "https://localhost:8080/",
          "height": 405
        },
        "id": "z5B0beE8qG67",
        "outputId": "aaa3488f-be26-486a-a742-a0c9748e0ab5"
      },
      "execution_count": 6,
      "outputs": [
        {
          "name": "stdout",
          "output_type": "stream",
          "text": [
            "{‘Mobile’: [‘Redmi’, ‘Samsung’, ‘Realme’], ‘Laptop’: [‘Dell’, ‘HP’], ‘TV’: [‘Videocon’, ‘Sony’] }\n"
          ]
        },
        {
          "output_type": "error",
          "ename": "SyntaxError",
          "evalue": "ignored",
          "traceback": [
            "Traceback \u001b[0;36m(most recent call last)\u001b[0m:\n",
            "  File \u001b[1;32m\"/usr/local/lib/python3.7/dist-packages/IPython/core/interactiveshell.py\"\u001b[0m, line \u001b[1;32m3326\u001b[0m, in \u001b[1;35mrun_code\u001b[0m\n    exec(code_obj, self.user_global_ns, self.user_ns)\n",
            "  File \u001b[1;32m\"<ipython-input-6-a1509d62d9ea>\"\u001b[0m, line \u001b[1;32m5\u001b[0m, in \u001b[1;35m<module>\u001b[0m\n    input_dict = ast.literal_eval(input_str)\n",
            "  File \u001b[1;32m\"/usr/lib/python3.7/ast.py\"\u001b[0m, line \u001b[1;32m46\u001b[0m, in \u001b[1;35mliteral_eval\u001b[0m\n    node_or_string = parse(node_or_string, mode='eval')\n",
            "\u001b[0;36m  File \u001b[0;32m\"/usr/lib/python3.7/ast.py\"\u001b[0;36m, line \u001b[0;32m35\u001b[0;36m, in \u001b[0;35mparse\u001b[0;36m\u001b[0m\n\u001b[0;31m    return compile(source, filename, mode, PyCF_ONLY_AST)\u001b[0m\n",
            "\u001b[0;36m  File \u001b[0;32m\"<unknown>\"\u001b[0;36m, line \u001b[0;32m1\u001b[0m\n\u001b[0;31m    {‘Mobile’: [‘Redmi’, ‘Samsung’, ‘Realme’], ‘Laptop’: [‘Dell’, ‘HP’], ‘TV’: [‘Videocon’, ‘Sony’] }\u001b[0m\n\u001b[0m            ^\u001b[0m\n\u001b[0;31mSyntaxError\u001b[0m\u001b[0;31m:\u001b[0m invalid character in identifier\n"
          ]
        }
      ]
    },
    {
      "cell_type": "markdown",
      "source": [
        "upGrad String\n",
        "Description\n",
        "For the purpose of this question, we will define something called an upGrad string. Note that this definition is not valid outside this question. A string upGrad string if the frequency of its characters is something like 1, 2, 3, 4, .... That is a character appears only once, another appears twice, another appears thrice and so on. For example string '$yrr$ssrsr' is a upGrad string since the frequency of y:1, $:2, s:3, r:4, however string '$yrr$ssrsr%' will not be an upGrad string since it has two characters (y and %) with frequency 1. The frequency of characters should be of form 1, 2, 3, 4, 5... only.\n",
        "\n",
        "Given a string, can you determine if the string is upGrad string or no?\n",
        "\n",
        "\n",
        "\n",
        "\n",
        "\n",
        "Input:\n",
        "\n",
        "A string\n",
        "\n",
        "\n",
        "\n",
        "Output:\n",
        "\n",
        "Boolean depending whether the string is upGrad string or not\n",
        "\n",
        "\n",
        "\n",
        "\n",
        "\n",
        "Sample input:\n",
        "\n",
        "$yrr$ssrsr\n",
        "\n",
        "\n",
        "\n",
        "Sample output:\n",
        "\n",
        "True\n",
        "\n",
        "\n",
        "\n",
        "\n",
        "\n",
        "Sample input:\n",
        "\n",
        "$yrr$ssrsr%\n",
        "\n",
        "\n",
        "\n",
        "Sample output:\n",
        "\n",
        "False\n",
        "\n",
        "\n",
        "\n",
        "Sample input:\n",
        "\n",
        "ab#ab#aba\n",
        "\n",
        "\n",
        "\n",
        "Sample output:\n",
        "\n",
        "False\n",
        "\n",
        "\n",
        "\n",
        "Sample input:\n",
        "\n",
        "ab#ab#ab6a\n",
        "\n",
        "\n",
        "\n",
        "Sample output:\n",
        "\n",
        "True"
      ],
      "metadata": {
        "id": "TGPOPrXLwFBY"
      }
    },
    {
      "cell_type": "code",
      "source": [
        "#input has been taken for you\n",
        "s=input()\n",
        "p={}\n",
        "for i in s:\n",
        "    p[i]=s.count(i)\n",
        "\n",
        "g = list(p.values())\n",
        "min1,max1=min(g),max(g)\n",
        "\n",
        "print( sorted(g)==sorted(list(set(g)))==sorted(list(range(1,max1+1))) )\n",
        "#print(sorted(g),sorted(list(set(g))),sorted(list(range(1,max1+1))) )"
      ],
      "metadata": {
        "id": "CCLE8hgotGt_"
      },
      "execution_count": null,
      "outputs": []
    }
  ]
}