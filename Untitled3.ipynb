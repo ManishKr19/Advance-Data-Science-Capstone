{
  "nbformat": 4,
  "nbformat_minor": 0,
  "metadata": {
    "colab": {
      "provenance": [],
      "authorship_tag": "ABX9TyMBGLEyI1outwq+cK0558x0",
      "include_colab_link": true
    },
    "kernelspec": {
      "name": "python3",
      "display_name": "Python 3"
    },
    "language_info": {
      "name": "python"
    }
  },
  "cells": [
    {
      "cell_type": "markdown",
      "metadata": {
        "id": "view-in-github",
        "colab_type": "text"
      },
      "source": [
        "<a href=\"https://colab.research.google.com/github/ManishKr19/Advance-Data-Science-Capstone/blob/master/Untitled3.ipynb\" target=\"_parent\"><img src=\"https://colab.research.google.com/assets/colab-badge.svg\" alt=\"Open In Colab\"/></a>"
      ]
    },
    {
      "cell_type": "markdown",
      "source": [
        "### **LAMBDA FUNCTION**"
      ],
      "metadata": {
        "id": "XFpI0lnxvtMY"
      }
    },
    {
      "cell_type": "code",
      "execution_count": null,
      "metadata": {
        "colab": {
          "base_uri": "https://localhost:8080/"
        },
        "id": "v7xBGQd_vsQQ",
        "outputId": "1ef36b56-6282-4d2b-9112-b8e73f39307f"
      },
      "outputs": [
        {
          "output_type": "execute_result",
          "data": {
            "text/plain": [
              "25"
            ]
          },
          "metadata": {},
          "execution_count": 1
        }
      ],
      "source": [
        "def squareNum(num):\n",
        "  return num**2\n",
        "\n",
        "squareNum(5)"
      ]
    },
    {
      "cell_type": "code",
      "source": [
        "squarFunc = lambda num : num**2\n",
        "squarFunc(5)"
      ],
      "metadata": {
        "colab": {
          "base_uri": "https://localhost:8080/"
        },
        "id": "SO7UI7niwBAx",
        "outputId": "2686d102-3257-45c8-d54f-7a4682981f56"
      },
      "execution_count": null,
      "outputs": [
        {
          "output_type": "execute_result",
          "data": {
            "text/plain": [
              "25"
            ]
          },
          "metadata": {},
          "execution_count": 3
        }
      ]
    },
    {
      "cell_type": "code",
      "source": [
        "xpow = lambda a,b : a*b\n",
        "xpow(3,2)"
      ],
      "metadata": {
        "colab": {
          "base_uri": "https://localhost:8080/"
        },
        "id": "K-pS_hBVwLXZ",
        "outputId": "8dac9f72-7919-4ed2-d154-8e772c3c67aa"
      },
      "execution_count": null,
      "outputs": [
        {
          "output_type": "execute_result",
          "data": {
            "text/plain": [
              "6"
            ]
          },
          "metadata": {},
          "execution_count": 4
        }
      ]
    },
    {
      "cell_type": "code",
      "source": [
        "print(type(xpow))"
      ],
      "metadata": {
        "colab": {
          "base_uri": "https://localhost:8080/"
        },
        "id": "htJOxQfew68n",
        "outputId": "e1246ef2-a419-468d-f904-96d06a4f2dff"
      },
      "execution_count": null,
      "outputs": [
        {
          "output_type": "stream",
          "name": "stdout",
          "text": [
            "<class 'function'>\n"
          ]
        }
      ]
    },
    {
      "cell_type": "code",
      "source": [
        "kgs_gm = lambda x : x*1000\n",
        "kgs_gm(50)"
      ],
      "metadata": {
        "colab": {
          "base_uri": "https://localhost:8080/"
        },
        "id": "n9bB277vw90E",
        "outputId": "48d046e2-05b1-46a9-82bb-998515b1a8c3"
      },
      "execution_count": null,
      "outputs": [
        {
          "output_type": "execute_result",
          "data": {
            "text/plain": [
              "50000"
            ]
          },
          "metadata": {},
          "execution_count": 7
        }
      ]
    },
    {
      "cell_type": "markdown",
      "source": [
        "# exercise: write a lambda function to check if number is even or odd\n",
        "# return bool True if even and False if odd // boolean function (only return bool)"
      ],
      "metadata": {
        "id": "mf9_kZ8eyOh1"
      }
    },
    {
      "cell_type": "code",
      "source": [
        "even_odd = lambda x : \"even\" if x%2==0 else \"odd\"\n",
        "print(even_odd(int(input())))"
      ],
      "metadata": {
        "colab": {
          "base_uri": "https://localhost:8080/"
        },
        "id": "Libp5zI8xicC",
        "outputId": "7257fe14-a234-4077-b1f8-675acfcfa7c8"
      },
      "execution_count": null,
      "outputs": [
        {
          "output_type": "stream",
          "name": "stdout",
          "text": [
            "12\n",
            "even\n"
          ]
        }
      ]
    },
    {
      "cell_type": "code",
      "source": [
        "sumNumber = lambda x,y : x+y\n",
        "print(sumNumber(int(input()),int(input())))"
      ],
      "metadata": {
        "colab": {
          "base_uri": "https://localhost:8080/"
        },
        "id": "XybTrqknygpV",
        "outputId": "632a4272-6ae3-4244-b6a3-320e935311b8"
      },
      "execution_count": null,
      "outputs": [
        {
          "output_type": "stream",
          "name": "stdout",
          "text": [
            "4\n",
            "5\n",
            "9\n"
          ]
        }
      ]
    },
    {
      "cell_type": "code",
      "source": [
        "sumNumber = lambda x,y : max(x,y)\n",
        "print(sumNumber(int(input()),int(input())))"
      ],
      "metadata": {
        "colab": {
          "base_uri": "https://localhost:8080/"
        },
        "id": "ZWmwaHqQ0GzM",
        "outputId": "4d72c774-2fb8-4dd1-b068-e21ebf6dd0c1"
      },
      "execution_count": null,
      "outputs": [
        {
          "output_type": "stream",
          "name": "stdout",
          "text": [
            "1\n",
            "2\n",
            "2\n"
          ]
        }
      ]
    },
    {
      "cell_type": "markdown",
      "source": [
        "**## MAP - REDUCE - FILTER**"
      ],
      "metadata": {
        "id": "tVANLWAj3Rv8"
      }
    },
    {
      "cell_type": "code",
      "source": [
        "lst = [9,8,17,27,15]\n",
        "\n",
        "a= [1,2,3,4,5]\n",
        "func = lambda x: x**2 # expression\n",
        "\n",
        "print(list(map(func, a)))"
      ],
      "metadata": {
        "colab": {
          "base_uri": "https://localhost:8080/"
        },
        "id": "82LKw2SQ3L4Z",
        "outputId": "325bb254-7857-41e3-f3da-5168a38a3415"
      },
      "execution_count": null,
      "outputs": [
        {
          "output_type": "stream",
          "name": "stdout",
          "text": [
            "[1, 4, 9, 16, 25]\n"
          ]
        }
      ]
    },
    {
      "cell_type": "markdown",
      "source": [
        "***FILTER***"
      ],
      "metadata": {
        "id": "IMPRb3pP6PUR"
      }
    },
    {
      "cell_type": "code",
      "source": [
        "a= [1,2,3,4,5]\n",
        "func = lambda x: x%2==0  #bool function\n",
        "\n",
        "print(list(filter(func, a)))"
      ],
      "metadata": {
        "colab": {
          "base_uri": "https://localhost:8080/"
        },
        "id": "Mn4lHfnd0Pzt",
        "outputId": "fb50a702-79dc-472d-c0e2-1d3a6e0876c7"
      },
      "execution_count": null,
      "outputs": [
        {
          "output_type": "stream",
          "name": "stdout",
          "text": [
            "[2, 4]\n"
          ]
        }
      ]
    },
    {
      "cell_type": "code",
      "source": [
        "giftBox = 'bread iph*one butter ip*ad milk'\n",
        "p = giftBox.split()\n",
        "\n",
        "func = lambda x: '*' in x   #bool function\n",
        "print(list(filter(func, p)))"
      ],
      "metadata": {
        "colab": {
          "base_uri": "https://localhost:8080/"
        },
        "id": "KwSWSmiM4sPq",
        "outputId": "b8d52b5f-cddb-4558-caf0-4f92b751388e"
      },
      "execution_count": null,
      "outputs": [
        {
          "output_type": "stream",
          "name": "stdout",
          "text": [
            "['iph*one', 'ip*ad']\n"
          ]
        }
      ]
    },
    {
      "cell_type": "markdown",
      "source": [
        "***REDUCE***"
      ],
      "metadata": {
        "id": "mHTQOXSC6qNx"
      }
    },
    {
      "cell_type": "code",
      "source": [
        "from functools import reduce\n",
        "\n",
        "data =[1,2,3,4,5]\n",
        "\n",
        "def sumFun(x,y):\n",
        "  print(f\"{x}+{y}={x+y}\")\n",
        "  return x+y\n",
        "\n",
        "print(reduce(sumFun,data))"
      ],
      "metadata": {
        "colab": {
          "base_uri": "https://localhost:8080/"
        },
        "id": "RPWXmVcZ6o7i",
        "outputId": "ffe96971-6018-4284-c340-5df7b09911da"
      },
      "execution_count": null,
      "outputs": [
        {
          "output_type": "stream",
          "name": "stdout",
          "text": [
            "1+2=3\n",
            "3+3=6\n",
            "6+4=10\n",
            "10+5=15\n",
            "15\n"
          ]
        }
      ]
    },
    {
      "cell_type": "code",
      "source": [
        "from functools import reduce\n",
        "\n",
        "data =[1,2,3,4,5]\n",
        "\n",
        "minFunc = lambda x,y : min(x,y)\n",
        "\n",
        "print(reduce(minFunc,data))"
      ],
      "metadata": {
        "colab": {
          "base_uri": "https://localhost:8080/"
        },
        "id": "Chxl9Fy95U4K",
        "outputId": "1c220b23-eca6-401b-fd76-e5ee7c8bbde4"
      },
      "execution_count": null,
      "outputs": [
        {
          "output_type": "stream",
          "name": "stdout",
          "text": [
            "1\n"
          ]
        }
      ]
    },
    {
      "cell_type": "code",
      "source": [],
      "metadata": {
        "id": "yXpadI5M7fvR"
      },
      "execution_count": null,
      "outputs": []
    }
  ]
}